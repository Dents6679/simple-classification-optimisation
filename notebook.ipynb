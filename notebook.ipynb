{
  "cells": [
    {
      "cell_type": "markdown",
      "metadata": {
        "id": "2mLAM127Ng1V"
      },
      "source": [
        "# FML Classification Task\n",
        "\n",
        "---"
      ]
    },
    {
      "cell_type": "markdown",
      "metadata": {
        "id": "3r5VbKg3rbSS"
      },
      "source": [
        "### Importing libraries and Data"
      ]
    },
    {
      "cell_type": "code",
      "execution_count": 1,
      "metadata": {
        "colab": {
          "base_uri": "https://localhost:8080/"
        },
        "id": "qeEJcb8eraPv",
        "outputId": "09bf9424-c1dc-4e75-c14e-898cbae2b3ae"
      },
      "outputs": [
        {
          "name": "stdout",
          "output_type": "stream",
          "text": [
            "Mounted at /content/drive\n",
            "training1 shape: (500, 2306)\n",
            "training2 shape: (2500, 2306)\n",
            "sample valid predictions shape: (1000, 1)\n",
            "testing data shape: (1000, 2304)\n"
          ]
        }
      ],
      "source": [
        "#imports\n",
        "import pandas as pd\n",
        "from google.colab import drive\n",
        "import numpy as np\n",
        "import sklearn\n",
        "import matplotlib.pyplot as plt\n",
        "from sklearn.impute import KNNImputer\n",
        "from sklearn.neighbors import NearestNeighbors\n",
        "from sklearn.metrics import confusion_matrix, ConfusionMatrixDisplay\n",
        "from sklearn.model_selection import train_test_split\n",
        "from sklearn.metrics import accuracy_score\n",
        "from sklearn.linear_model import Ridge, LogisticRegression\n",
        "from sklearn import preprocessing\n",
        "from sklearn.decomposition import PCA\n",
        "import random\n",
        "from sklearn.model_selection import GridSearchCV\n",
        "from sklearn.svm import SVC\n",
        "\n",
        "\n",
        "#mounting drive for data importations\n",
        "drive.mount('/content/drive')\n",
        "\n",
        "#loading data from google drive CSVs\n",
        "training1_raw = pd.read_csv(\"/content/drive/MyDrive/Colab Notebooks/FML/Data/training1.csv\")\n",
        "training2_raw = pd.read_csv(\"/content/drive/MyDrive/Colab Notebooks/FML/Data/training2.csv\")\n",
        "test_raw = pd.read_csv(\"/content/drive/MyDrive/Colab Notebooks/FML/Data/test.csv\")\n",
        "sample_valid_predictions_raw = pd.read_csv(\"/content/drive/MyDrive/Colab Notebooks/FML/Data/sample_valid_predictions.csv\")\n",
        "\n",
        "#converting data in 2D arrays\n",
        "training1_array = training1_raw.values\n",
        "print(\"training1 shape:\", training1_array.shape)\n",
        "training2_array = training2_raw.values\n",
        "print(\"training2 shape:\", training2_array.shape)\n",
        "sample_valid_predictions_array = sample_valid_predictions_raw.values\n",
        "print(\"sample valid predictions shape:\", sample_valid_predictions_raw.shape)\n",
        "test_array=test_raw.values\n",
        "print(\"testing data shape:\", test_array.shape)"
      ]
    },
    {
      "cell_type": "markdown",
      "metadata": {
        "id": "qk6wYEUsFE3z"
      },
      "source": [
        "### Handy Functions"
      ]
    },
    {
      "cell_type": "code",
      "execution_count": null,
      "metadata": {
        "id": "lZry87YFFG0Q"
      },
      "outputs": [],
      "source": [
        "def display_confusion_matrix(grounds, predictions):\n",
        "  \"\"\"\n",
        "  Displays a confusion matrix for the given data.\n",
        "  :param grounds: the ground truth points\n",
        "  :param predictions: the predicted points\n",
        "  \"\"\"\n",
        "  #create confusion matrix\n",
        "  cm = confusion_matrix(grounds, predictions)\n",
        "\n",
        "  #create displayable CM\n",
        "  disp = ConfusionMatrixDisplay(confusion_matrix=cm, display_labels=('Positive','Negative'))\n",
        "  \n",
        "  #display it\n",
        "  disp.plot()\n",
        "  plt.show()"
      ]
    },
    {
      "cell_type": "markdown",
      "metadata": {
        "id": "6kRwUVVgM0Ze"
      },
      "source": [
        "## Preprocessing"
      ]
    },
    {
      "cell_type": "code",
      "execution_count": 6,
      "metadata": {
        "colab": {
          "base_uri": "https://localhost:8080/"
        },
        "id": "0j4oHQCHMzlQ",
        "outputId": "cbb344da-aebc-4a90-b7cd-fc2afcb1d20f"
      },
      "outputs": [
        {
          "name": "stdout",
          "output_type": "stream",
          "text": [
            "Data separation complete...\n",
            "Data imputing started with 3 neighbours.\n",
            "Data imputing done, datasets combined with shapes...\n",
            "X: (3000, 2304)\n",
            "y: (3000,)\n",
            "z: (3000,)\n",
            "Data scaled with mean 0, sd 1...\n"
          ]
        }
      ],
      "source": [
        "\n",
        "# separating classes, features and uncertainties\n",
        "\n",
        "t1_X = [column[0:-2:] for column in training1_array] # complete list of features\n",
        "t2_X = [column[0:-2:] for column in training2_array] # incomplete list of features \n",
        "t1_y = [column[-2] for column in training1_array] #complete list's labels\n",
        "t2_y = [column[-2] for column in training2_array] # incomplete list's labels\n",
        "t1_z = [column[-1] for column in training1_array] # complete list's confidences\n",
        "t2_z = [column[-1] for column in training2_array] # incomplete list's confidences\n",
        "print(\"Data separation complete...\")\n",
        "\n",
        "\n",
        "def impute_data(k=5):\n",
        "  \"\"\"\n",
        "  imputes any missing data from the incomplete feature list and combines it with the complete feature list. Does the same with confidences and \n",
        "  class labels\n",
        "  :param k: The number of neighbours to use\n",
        "  :returns X: the combined list of complete data and imputed, incomplete data.\n",
        "  :returns y: the combined class labels\n",
        "  :returns z: the combined confidence values\n",
        "  \"\"\"\n",
        "  # create imputer\n",
        "  imputer = KNNImputer(n_neighbors=k) \n",
        "  print(\"Data imputing started with\",k,\"neighbours.\")\n",
        "  # fit imputer to complete data\n",
        "  imputer.fit(t1_X)\n",
        "\n",
        "  # impute data with nan\n",
        "  t2_X_imputed = imputer.transform(t2_X)\n",
        "\n",
        "  # create whole dataset features\n",
        "  X = np.concatenate((t1_X, t2_X_imputed), axis=0)\n",
        "  # create whole dataset classes\n",
        "  y = np.concatenate((t1_y, t2_y),axis=0)\n",
        "  # create whole dataset confidences\n",
        "  z = np.concatenate((t1_z, t2_z),axis=0)\n",
        "  print(\"Data imputing done, datasets combined with shapes...\")\n",
        "\n",
        "  # ensure concatenation and imputing worked.\n",
        "  print(\"X:\", X.shape)\n",
        "  print(\"y:\", y.shape)\n",
        "  print(\"z:\", z.shape)\n",
        "  assert len(np.where(np.isnan(X).any(axis=1))[0]) == 0, \"NaN values have not been removed.\"\n",
        "  return X, y, z\n",
        "\n",
        "def scale_data(data):\n",
        "  \"\"\"\n",
        "  scales data to have a mean of 0 and SD/variance of 1\n",
        "  :param data: the set of features to scale/normalise\n",
        "  \n",
        "  :returns X: the scaled data\n",
        "  \"\"\"\n",
        "  #scaling data to have mean 0, sd 1\n",
        "  scaler = preprocessing.StandardScaler()\n",
        "  X = scaler.fit_transform(data)\n",
        "  print(\"Data scaled with mean 0, sd 1...\")\n",
        "  return X\n",
        "\n",
        "X, y, z = impute_data(3)\n",
        "X = scale_data(X)"
      ]
    },
    {
      "cell_type": "markdown",
      "metadata": {
        "id": "X-k1bj6nUEmk"
      },
      "source": [
        "### PCA (old, unused)\n"
      ]
    },
    {
      "cell_type": "code",
      "execution_count": null,
      "metadata": {
        "id": "1F3Lky6KUHVu"
      },
      "outputs": [],
      "source": [
        "\n",
        "# pca = PCA()\n",
        "# X_train_pca = pca.fit_transform(X_train_scaled)\n",
        "\n",
        "# eigenvalues = pca.explained_variance_\n",
        "# print(eigenvalues.shape)\n",
        "\n",
        "# variance_explained = eigenvalues / np.sum(eigenvalues)\n",
        "\n",
        "# indices = pca.components_.argsort()[:, ::-1][:]\n",
        "\n",
        "# print(pca.components_)"
      ]
    },
    {
      "cell_type": "markdown",
      "metadata": {
        "id": "9LQFcgXYK5ay"
      },
      "source": [
        "### Duplicating any data which has a confidence level of 1 to increase the weighting of those images. (old, unused)"
      ]
    },
    {
      "cell_type": "code",
      "execution_count": null,
      "metadata": {
        "colab": {
          "base_uri": "https://localhost:8080/"
        },
        "id": "nAV7AdBcK4_s",
        "outputId": "1166e5e2-7124-448e-8e2a-24073612eb4a"
      },
      "outputs": [
        {
          "name": "stdout",
          "output_type": "stream",
          "text": [
            "(3773, 2304)\n",
            "(3773,)\n"
          ]
        }
      ],
      "source": [
        "indices_with_confidence_1 = np.array(np.where(z == 1))[0]\n",
        "indices_with_confidence_66 = np.array(np.where(z==0.66))[0]\n",
        "\n",
        "# Duplicate elements in X and y with confidence value 1\n",
        "duplicated_X = np.concatenate((X, X[indices_with_confidence_1]))\n",
        "duplicated_y = np.concatenate((y, y[indices_with_confidence_1]))\n",
        "\n",
        "# Replace the original X and y with the duplicated versions\n",
        "print(duplicated_X.shape)\n",
        "print(duplicated_y.shape)"
      ]
    },
    {
      "cell_type": "markdown",
      "metadata": {
        "id": "0U8oZktJG3Py"
      },
      "source": [
        "### Splitting Data"
      ]
    },
    {
      "cell_type": "markdown",
      "metadata": {
        "id": "VwMO7lSyNrKX"
      },
      "source": [
        "separating data into cnn and gist features is old and unused."
      ]
    },
    {
      "cell_type": "code",
      "execution_count": null,
      "metadata": {
        "id": "8WH_aLE8Gu82"
      },
      "outputs": [],
      "source": [
        "#separate data into cnn and gist features, could be handy later.\n",
        "X_cnn = X[:,0:2048:]\n",
        "X_gist = X[:,2048::]"
      ]
    },
    {
      "cell_type": "code",
      "execution_count": 3,
      "metadata": {
        "id": "a4MeDaREUrOs"
      },
      "outputs": [],
      "source": [
        "def split_data_weighted(): \n",
        "  \"\"\"\n",
        "  Separates the data into training data and testing data two confidence levels, 1 and 0.66.\n",
        "\n",
        "  The returned training data has a ratio of 7:3 confidence 1 to confidence 0.66 data points\n",
        "  The returned testing data has a ratio of 7:3 confidence 0.66 to confidence 1 data points\n",
        "  This will hopefully reduce misclassifications fed into the SVM during training.     \n",
        "    \n",
        "    \n",
        "  :returns X_train: the training data features.\n",
        "  :returns y_train: the training data labels.\n",
        "  :returns X_test: the testing data features.\n",
        "  :returns y_test: the testing data labels.\n",
        "\n",
        "    \n",
        "  :Raises AssertionError: Confidence list separation failed: X items have been skipped or duplicated.\n",
        "  :Raises AssertionError: Confidence list separation failed: y items have been skipped or duplicated.\n",
        "  \"\"\"\n",
        "\n",
        "\n",
        "  #create seed \n",
        "  seed = random.randint(0,256)\n",
        "\n",
        "  #find indices of confidence 1 and 0.66 items in training data.\n",
        "  indices_with_confidence_1 = np.array(np.where(z == 1))[0]\n",
        "  indices_with_confidence_66 = np.array(np.where(z==0.66))[0]\n",
        "\n",
        "  #create list of features with confidence 1 and confidence 0.66\n",
        "  X_conf_1 = X[indices_with_confidence_1]\n",
        "  X_conf_66 = X[indices_with_confidence_66]\n",
        "\n",
        "  #create list of labels with confidence 1 and confidence 0.66 that correspond to X_conf_1 and X_conf_66\n",
        "  y_conf_1 = y[indices_with_confidence_1]\n",
        "  y_conf_66 = y[indices_with_confidence_66]\n",
        "\n",
        "  #some assertions to make sure things worked.\n",
        "  assert len(X_conf_1) + len(X_conf_66) == len(X), \"Confidence list separation failed: X items have been skipped or duplicated.\"\n",
        "  assert len(y_conf_66) + len(y_conf_1) == len(y), \"Confidence list separation failed: y items have been skipped or duplicated.\"\n",
        "\n",
        "\n",
        "  # Split confidence 1 data into 70% training and 30% testing\n",
        "  X_conf_1_train, X_conf_1_test = train_test_split(X_conf_1, test_size=0.3, random_state=seed)\n",
        "  y_conf_1_train, y_conf_1_test = train_test_split(y_conf_1, test_size=0.3, random_state=seed)\n",
        "  # Split confidence 0.66 data into 30% training and 70% testing\n",
        "  X_conf_66_train, X_conf_66_test = train_test_split(X_conf_66, test_size=0.7, random_state=seed)\n",
        "  y_conf_66_train, y_conf_66_test = train_test_split(y_conf_66, test_size=0.7, random_state=seed)\n",
        "\n",
        "  # Combine the training data, with 70% of the data from confidence 1 and 30% of the data from confidence 0.66\n",
        "  X_train = list(X_conf_1_train) + list(X_conf_66_train)\n",
        "  y_train = list(y_conf_1_train) + list(y_conf_66_train)\n",
        "\n",
        "  # Combine the testing data, with 30% of the data from X_conf_1 and 70% of the data from X_conf_66\n",
        "  X_test = np.array(list(X_conf_1_test) + list(X_conf_66_test))\n",
        "  y_test = np.array(list(y_conf_1_test) + list(y_conf_66_test))\n",
        "\n",
        "  #more assertions to make sure everything worked.\n",
        "  assert len(X_train) + len(X_test) == len(X), \"Incorrect number of samples in X_train and X_test\"\n",
        "  assert len(y_train) + len(y_test) == len(y), \"Incorrect number of samples in y_train and y_test\"\n",
        "\n",
        "  return X_train, y_train, X_test, y_test"
      ]
    },
    {
      "cell_type": "markdown",
      "metadata": {
        "id": "LRKJyDKfN-oX"
      },
      "source": [
        "## Getting baseline accuracy of the network with Default parameters.`"
      ]
    },
    {
      "cell_type": "code",
      "execution_count": 7,
      "metadata": {
        "colab": {
          "base_uri": "https://localhost:8080/"
        },
        "id": "fDrw2eKWN-WO",
        "outputId": "f1e32e6e-bd4f-4321-e1bc-0b9ad5473375"
      },
      "outputs": [
        {
          "name": "stdout",
          "output_type": "stream",
          "text": [
            "Data imputing started with 5 neighbours.\n",
            "Data imputing done, datasets combined with shapes...\n",
            "X: (3000, 2304)\n",
            "y: (3000,)\n",
            "z: (3000,)\n",
            "0.7416666666666668\n"
          ]
        }
      ],
      "source": [
        "default_accs = []\n",
        "X, y, z = impute_data()\n",
        "for i in range(10):\n",
        "  X_train, X_test, y_train, y_test_true = train_test_split(X,y,test_size = 0.2, random_state = seed, shuffle=True)\n",
        "  clf=SVC()\n",
        "  clf.fit(X_train, y_train)\n",
        "  y_pred = clf.predict(X_test)\n",
        "  default_accs.append(accuracy_score(y_test_true, y_pred))\n",
        "print(np.mean(default_accs))"
      ]
    },
    {
      "cell_type": "markdown",
      "metadata": {
        "id": "3rsB_DwZZrDH"
      },
      "source": [
        "## Performing a grid search over optimal SVM Kernels"
      ]
    },
    {
      "cell_type": "code",
      "execution_count": null,
      "metadata": {
        "colab": {
          "base_uri": "https://localhost:8080/",
          "height": 1000
        },
        "id": "QxEP2WTfZqTk",
        "outputId": "7ba9ba67-d1a2-4371-814a-7521b852274f"
      },
      "outputs": [
        {
          "name": "stdout",
          "output_type": "stream",
          "text": [
            "Epoch 0 started.\n",
            "rbf Accuracy: 0.7783333333333333\n",
            "Linear Accuracy: 0.6333333333333333\n",
            "Sigmoid Accuracy: 0.7733333333333333\n",
            "Poly Accuracy: 0.735\n",
            "Epoch 0 completed.\n",
            "\n",
            "Epoch 1 started.\n",
            "rbf Accuracy: 0.7633333333333333\n",
            "Linear Accuracy: 0.6516666666666666\n",
            "Sigmoid Accuracy: 0.7433333333333333\n",
            "Poly Accuracy: 0.7083333333333334\n",
            "Epoch 1 completed.\n",
            "\n",
            "Epoch 2 started.\n",
            "rbf Accuracy: 0.725\n",
            "Linear Accuracy: 0.6266666666666667\n",
            "Sigmoid Accuracy: 0.72\n",
            "Poly Accuracy: 0.705\n",
            "Epoch 2 completed.\n",
            "\n",
            "Epoch 3 started.\n",
            "rbf Accuracy: 0.7616666666666667\n",
            "Linear Accuracy: 0.625\n",
            "Sigmoid Accuracy: 0.7566666666666667\n",
            "Poly Accuracy: 0.71\n",
            "Epoch 3 completed.\n",
            "\n",
            "Epoch 4 started.\n",
            "rbf Accuracy: 0.76\n",
            "Linear Accuracy: 0.6166666666666667\n",
            "Sigmoid Accuracy: 0.7516666666666667\n",
            "Poly Accuracy: 0.69\n",
            "Epoch 4 completed.\n",
            "\n",
            "Epoch 5 started.\n",
            "rbf Accuracy: 0.7383333333333333\n",
            "Linear Accuracy: 0.6166666666666667\n",
            "Sigmoid Accuracy: 0.7283333333333334\n",
            "Poly Accuracy: 0.705\n",
            "Epoch 5 completed.\n",
            "\n",
            "Epoch 6 started.\n",
            "rbf Accuracy: 0.7583333333333333\n",
            "Linear Accuracy: 0.6016666666666667\n",
            "Sigmoid Accuracy: 0.7583333333333333\n",
            "Poly Accuracy: 0.7166666666666667\n",
            "Epoch 6 completed.\n",
            "\n",
            "Epoch 7 started.\n",
            "rbf Accuracy: 0.7116666666666667\n",
            "Linear Accuracy: 0.6166666666666667\n",
            "Sigmoid Accuracy: 0.7033333333333334\n",
            "Poly Accuracy: 0.6483333333333333\n",
            "Epoch 7 completed.\n",
            "\n",
            "Epoch 8 started.\n",
            "rbf Accuracy: 0.7366666666666667\n",
            "Linear Accuracy: 0.63\n",
            "Sigmoid Accuracy: 0.74\n",
            "Poly Accuracy: 0.695\n",
            "Epoch 8 completed.\n",
            "\n",
            "Epoch 9 started.\n",
            "rbf Accuracy: 0.7116666666666667\n",
            "Linear Accuracy: 0.6166666666666667\n",
            "Sigmoid Accuracy: 0.7033333333333334\n",
            "Poly Accuracy: 0.6483333333333333\n",
            "Epoch 9 completed.\n",
            "\n",
            "Epoch 10 started.\n",
            "rbf Accuracy: 0.7483333333333333\n",
            "Linear Accuracy: 0.63\n",
            "Sigmoid Accuracy: 0.74\n",
            "Poly Accuracy: 0.7133333333333334\n",
            "Epoch 10 completed.\n",
            "\n",
            "Epoch 11 started.\n",
            "rbf Accuracy: 0.7516666666666667\n",
            "Linear Accuracy: 0.6533333333333333\n",
            "Sigmoid Accuracy: 0.7483333333333333\n",
            "Poly Accuracy: 0.71\n",
            "Epoch 11 completed.\n",
            "\n",
            "Epoch 12 started.\n",
            "rbf Accuracy: 0.7683333333333333\n",
            "Linear Accuracy: 0.655\n",
            "Sigmoid Accuracy: 0.7683333333333333\n",
            "Poly Accuracy: 0.7016666666666667\n",
            "Epoch 12 completed.\n",
            "\n",
            "Epoch 13 started.\n",
            "rbf Accuracy: 0.7433333333333333\n",
            "Linear Accuracy: 0.6516666666666666\n",
            "Sigmoid Accuracy: 0.7466666666666667\n",
            "Poly Accuracy: 0.7083333333333334\n",
            "Epoch 13 completed.\n",
            "\n",
            "Epoch 14 started.\n",
            "rbf Accuracy: 0.755\n",
            "Linear Accuracy: 0.64\n",
            "Sigmoid Accuracy: 0.755\n",
            "Poly Accuracy: 0.7016666666666667\n",
            "Epoch 14 completed.\n",
            "\n",
            "Epoch 15 started.\n",
            "rbf Accuracy: 0.76\n",
            "Linear Accuracy: 0.6116666666666667\n",
            "Sigmoid Accuracy: 0.76\n",
            "Poly Accuracy: 0.6883333333333334\n",
            "Epoch 15 completed.\n",
            "\n",
            "Epoch 16 started.\n",
            "rbf Accuracy: 0.7466666666666667\n",
            "Linear Accuracy: 0.6533333333333333\n",
            "Sigmoid Accuracy: 0.7466666666666667\n",
            "Poly Accuracy: 0.705\n",
            "Epoch 16 completed.\n",
            "\n",
            "Epoch 17 started.\n",
            "rbf Accuracy: 0.7433333333333333\n",
            "Linear Accuracy: 0.63\n",
            "Sigmoid Accuracy: 0.7416666666666667\n",
            "Poly Accuracy: 0.6666666666666666\n",
            "Epoch 17 completed.\n",
            "\n",
            "Epoch 18 started.\n",
            "rbf Accuracy: 0.7483333333333333\n",
            "Linear Accuracy: 0.6166666666666667\n",
            "Sigmoid Accuracy: 0.73\n",
            "Poly Accuracy: 0.6966666666666667\n",
            "Epoch 18 completed.\n",
            "\n",
            "Epoch 19 started.\n",
            "rbf Accuracy: 0.7233333333333334\n",
            "Linear Accuracy: 0.645\n",
            "Sigmoid Accuracy: 0.7233333333333334\n",
            "Poly Accuracy: 0.7\n",
            "Epoch 19 completed.\n",
            "\n"
          ]
        },
        {
          "data": {
            "image/png": "[encoded data removed]",
            "text/plain": [
              "<Figure size 640x480 with 1 Axes>"
            ]
          },
          "metadata": {},
          "output_type": "display_data"
        },
        {
          "name": "stdout",
          "output_type": "stream",
          "text": [
            "\n",
            "\n",
            "Average RBF accuracy: 0.7466666666666666\n",
            "Average Linear accuracy: 0.6310833333333334\n",
            "Average Sigmoid accuracy: 0.7419166666666667\n",
            "Average Poly accuracy: 0.6976666666666665\n"
          ]
        }
      ],
      "source": [
        "# initialise accuracy arrays\n",
        "rbf_accs = []\n",
        "lin_accs = []\n",
        "sig_accs = []\n",
        "pol_accs = []\n",
        "\n",
        "# do test 10 times for fairness\n",
        "for i in range(20):\n",
        "  print('Epoch',i,'started.')\n",
        "  seed = random.randint(0,256)\n",
        "  X_train, X_test, y_train, y_test_true = train_test_split(X,y,test_size = 0.2, random_state = seed, shuffle=True)\n",
        "  \n",
        "  # rbf (default)\n",
        "  clf=SVC(kernel='rbf')\n",
        "  clf.fit(X_train, y_train)\n",
        "  y_pred = clf.predict(X_test)\n",
        "  rbf_accs.append(accuracy_score(y_test_true, y_pred))\n",
        "  print('rbf Accuracy:', accuracy_score(y_test_true, y_pred))\n",
        "\n",
        "  # linear\n",
        "  clf=SVC(kernel='linear')\n",
        "  clf.fit(X_train, y_train)\n",
        "  y_pred = clf.predict(X_test)\n",
        "  lin_accs.append(accuracy_score(y_test_true, y_pred))\n",
        "  print('Linear Accuracy:', accuracy_score(y_test_true, y_pred))\n",
        "\n",
        "  # sigmoid\n",
        "  clf=SVC(kernel='sigmoid')\n",
        "  clf.fit(X_train, y_train)\n",
        "  y_pred = clf.predict(X_test)\n",
        "  sig_accs.append(accuracy_score(y_test_true, y_pred))\n",
        "  print('Sigmoid Accuracy:', accuracy_score(y_test_true, y_pred))\n",
        "\n",
        "  # poly\n",
        "  clf=SVC(kernel='poly')\n",
        "  clf.fit(X_train, y_train)\n",
        "  y_pred = clf.predict(X_test)\n",
        "  pol_accs.append(accuracy_score(y_test_true, y_pred))\n",
        "  print('Poly Accuracy:', accuracy_score(y_test_true, y_pred))\n",
        "\n",
        "  print('Epoch',i,'completed.')\n",
        "  print(\"\")\n",
        "\n",
        "\n",
        "# plot lines\n",
        "plt.plot(rbf_accs, label='rbf', c='r')\n",
        "plt.plot(lin_accs, label='linear', c='b')\n",
        "plt.plot(sig_accs, label='sigmoid', c='g')\n",
        "plt.plot(pol_accs, label='poly', c='orange')\n",
        "\n",
        "# plot means\n",
        "plt.axhline(y=np.mean(rbf_accs), color='red', linestyle='--', label='rbf Mean')\n",
        "plt.axhline(y=np.mean(lin_accs), color='blue', linestyle='--', label='linear Mean')\n",
        "plt.axhline(y=np.mean(sig_accs), color='green', linestyle='--', label='sigmoid Mean')\n",
        "plt.axhline(y=np.mean(pol_accs), color='orange', linestyle='--', label='poly Mean')\n",
        "\n",
        "plt.xlabel('Test #')\n",
        "plt.ylabel('Accuracy')\n",
        "legend = plt.legend(loc='center left', bbox_to_anchor=(1.05, 0.5))\n",
        "# Changing the title of the legend\n",
        "legend.set_title('Kernel Type')\n",
        "plt.show()\n",
        "\n",
        "\n",
        "print(\"\")\n",
        "print(\"\")\n",
        "print(\"Average RBF accuracy:\", np.mean(rbf_accs))\n",
        "print(\"Average Linear accuracy:\", np.mean(lin_accs))\n",
        "print(\"Average Sigmoid accuracy:\", np.mean(sig_accs))\n",
        "print(\"Average Poly accuracy:\", np.mean(pol_accs))\n"
      ]
    },
    {
      "cell_type": "markdown",
      "metadata": {
        "id": "Gl2j5YXIgDwH"
      },
      "source": [
        "##Creating & using Grid search on SVM for predictions"
      ]
    },
    {
      "cell_type": "markdown",
      "metadata": {
        "id": "ZjLVOx3mDMWz"
      },
      "source": [
        "Grid search for best parameters with default test split\n"
      ]
    },
    {
      "cell_type": "code",
      "execution_count": null,
      "metadata": {
        "colab": {
          "base_uri": "https://localhost:8080/"
        },
        "id": "AOeCUyQBDOkc",
        "outputId": "1bd1b48a-d58e-40ee-d944-2c65810d0947"
      },
      "outputs": [
        {
          "name": "stdout",
          "output_type": "stream",
          "text": [
            "Best parameters:  {'C': 1, 'gamma': 'auto', 'kernel': 'sigmoid'}\n",
            "Test score:  0.7633333333333333\n"
          ]
        }
      ],
      "source": [
        "#create parameter grid\n",
        "param_grid = {'C': [0.1, 1, 10, 25, 50, 100], 'kernel': ['sigmoid', 'rbf'], 'gamma': ['scale', 'auto', 0.01, 0.1, 0.5, 1, 1.5]}\n",
        "\n",
        "#split data\n",
        "X_train, X_test, y_train, y_test, z_train, z_test = train_test_split(X, y, z, test_size=0.2, shuffle=True )\n",
        "\n",
        "#create SV classifier\n",
        "svc = SVC()\n",
        "#create grid. score for accuracy and use maximum possible cores while avoiding high RAM usage\n",
        "grid = GridSearchCV(svc, param_grid, scoring='accuracy', n_jobs = -1, cv=5, pre_dispatch='2*n_jobs')\n",
        "\n",
        "#fit grid to training data. Use data's confidence values as weights.\n",
        "grid.fit(X_train, y_train, sample_weight=z_train)\n",
        "\n",
        "#print best parameters with score.\n",
        "print(\"Best parameters: \", grid.best_params_)\n",
        "\n",
        "#test best paraneters on new data.\n",
        "best_svc = grid.best_estimator_\n",
        "test_score = best_svc.score(X_test, y_test)\n",
        "print(\"Test score: \", test_score)"
      ]
    },
    {
      "cell_type": "markdown",
      "metadata": {
        "id": "WQjV9LRez0Nv"
      },
      "source": [
        "## Grid search for best parameters with weighted test split\n",
        "\n"
      ]
    },
    {
      "cell_type": "code",
      "execution_count": null,
      "metadata": {
        "colab": {
          "base_uri": "https://localhost:8080/"
        },
        "id": "FPbXiXtUR_RR",
        "outputId": "3ded17ed-c10f-4317-e289-33d1888e08b1"
      },
      "outputs": [
        {
          "name": "stdout",
          "output_type": "stream",
          "text": [
            "Best parameters:  {'C': 1, 'gamma': 'auto', 'kernel': 'sigmoid'}\n",
            "Test score:  0.7426018983807928\n"
          ]
        }
      ],
      "source": [
        "#create parameter grid\n",
        "param_grid = {'C': [0.1, 1, 10, 25, 50, 100], 'kernel': ['sigmoid', 'rbf'], 'gamma': ['scale', 'auto', 0.01, 0.1, 0.5, 1, 1.5]}\n",
        "\n",
        "#split data using weighted data splitter\n",
        "X_train, y_train, X_test, y_test = split_data_weighted() \n",
        "\n",
        "#create SV classifer\n",
        "svc = SVC()\n",
        "#create grid. score for accuracy and use maximum possible cores while avoiding high ram usage\n",
        "grid = GridSearchCV(svc, param_grid, scoring='accuracy', n_jobs = -1, cv=5, pre_dispatch='2*n_jobs')\n",
        "\n",
        "#fit grid to training data\n",
        "grid.fit(X_train, y_train)\n",
        "\n",
        "#print best parameters with score.\n",
        "print(\"Best parameters: \", grid.best_params_)\n",
        "\n",
        "best_svc = grid.best_estimator_\n",
        "test_score = best_svc.score(X_test, y_test)\n",
        "print(\"Test score: \", test_score)"
      ]
    },
    {
      "cell_type": "markdown",
      "metadata": {
        "id": "Owykw6-8QeCs"
      },
      "source": [
        "# Testing Different Neighbourhood sizes for KNN-Imputing"
      ]
    },
    {
      "cell_type": "code",
      "execution_count": null,
      "metadata": {
        "id": "hAvaPNuNJ215"
      },
      "outputs": [],
      "source": [
        "# setting different neighbourhood sizes\n",
        "neighbourhood_sizes = [3,5,7,9,11,13,15,17,19,21]\n",
        "\n",
        "# Initialise accuracy array\n",
        "multi_test_accuracies = []\n",
        "\n",
        "# Repeat tests 20 times to ensure fairness\n",
        "for i in range(20):\n",
        "  # Initialise inner accuracy array\n",
        "  accuracies = []\n",
        "  # for each neighbourhood size...\n",
        "  for k in neighbourhood_sizes:\n",
        "    # impute missing data with k neighbours\n",
        "    X, y, z = impute_data(k)\n",
        "    # scale data to mean 0 SD 1\n",
        "    X = scale_data(data=X)\n",
        "    # split data using default train-test split\n",
        "    X_train, X_test, y_train, y_test, z_train, z_test = train_test_split(X, y, z, test_size=0.1, shuffle=True )\n",
        "    # Train an SVC with optimised parameters found from grid search\n",
        "    svc = SVC(kernel='rbf', C=1, gamma=\"scale\")\n",
        "    # Fit SVC with z-train weights.\n",
        "    svc.fit(X_train, y_train, sample_weight=z_train)\n",
        "    # Predict classes for testing data\n",
        "    y_pred = svc.predict(X_test)\n",
        "    # add accuracy score to inner accuracies list\n",
        "    accuracies.append(accuracy_score(y_test, y_pred))\n",
        "  # add accuracy score to outer accuracy list\n",
        "  multi_test_accuracies.append(accuracies)\n",
        "\n",
        "# Calculate mean accuracies for all neighbourhood sizes\n",
        "mean_accuracies = np.mean(multi_test_accuracies, axis=(0))\n",
        "\n",
        "# plot mean accuracy sizes in red\n",
        "plt.plot(neighbourhood_sizes, mean_accuracies, label='Mean Accuracy',c='r')\n",
        "# plot all tests\n",
        "for i, test in enumerate(multi_test_accuracies):\n",
        "  label = 'Test ' + str(i)\n",
        "  plt.plot(neighbourhood_sizes, test, linestyle=\":\", alpha=0.5)\n",
        "  \n",
        "# make plot look pretty & show it\n",
        "plt.legend(loc='upper right')\n",
        "plt.xlabel('Neighbourhood Size')\n",
        "plt.ylabel('Accuracy')\n",
        "plt.show()"
      ]
    },
    {
      "cell_type": "markdown",
      "metadata": {
        "id": "dhzuZj9GpNfW"
      },
      "source": [
        "# Creating predictions for Test Data & Exporting\n"
      ]
    },
    {
      "cell_type": "code",
      "execution_count": 21,
      "metadata": {
        "colab": {
          "base_uri": "https://localhost:8080/"
        },
        "id": "0Hjc-iG2pRNB",
        "outputId": "22acbf28-78a3-4866-88e8-b45de3ecac1c"
      },
      "outputs": [
        {
          "name": "stdout",
          "output_type": "stream",
          "text": [
            "[1 0 0 0 1 1 1 0 1 0 1 1 0 1 1 1 0 0 0 1 0 1 1 0 1 0 1 0 1 1 0 1 1 0 0 1 1\n",
            " 1 0 0 0 0 0 0 0 0 1 0 0 1 1 1 1 0 0 1 1 1 0 1 0 1 1 0 1 1 1 1 0 0 0 0 1 1\n",
            " 0 1 0 1 1 0 0 0 0 1 1 1 0 1 1 0 0 1 1 0 0 0 0 1 1 0 1 1 1 0 1 0 1 1 0 1 1\n",
            " 0 0 1 0 0 0 0 1 0 0 0 1 0 1 0 0 0 0 0 0 1 0 0 1 1 1 0 1 0 0 1 1 0 0 0 0 1\n",
            " 1 1 0 1 1 0 0 1 1 1 1 1 0 0 0 0 0 0 0 0 1 1 0 1 1 0 0 1 1 1 0 0 0 0 1 1 1\n",
            " 0 1 1 1 0 1 0 0 0 0 1 0 1 0 0 0 0 1 1 1 1 0 1 1 1 1 0 1 0 0 0 1 1 0 1 0 0\n",
            " 0 0 1 1 1 1 0 1 1 1 0 1 0 1 0 1 1 0 1 0 1 0 0 0 0 1 0 0 0 1 0 0 1 0 0 1 1\n",
            " 0 1 1 1 0 1 0 1 0 0 1 1 0 1 0 0 1 0 0 1 1 1 0 1 0 0 0 0 0 1 0 1 0 0 0 1 1\n",
            " 0 1 1 1 1 1 1 1 1 0 0 1 1 0 1 0 1 0 1 0 0 0 1 0 1 1 0 0 1 1 1 1 1 0 0 1 1\n",
            " 0 0 1 1 1 1 1 0 0 0 0 1 0 0 0 1 0 1 0 1 1 0 1 1 1 1 1 0 1 1 1 1 1 1 0 0 1\n",
            " 1 0 0 0 0 1 1 1 1 1 0 0 0 1 1 1 1 0 0 1 1 1 1 0 1 1 1 0 1 0 0 1 0 0 1 1 0\n",
            " 0 0 1 0 0 0 1 0 0 0 1 0 1 1 1 1 1 0 1 0 0 0 1 0 0 1 1 1 0 0 0 0 0 1 1 0 0\n",
            " 0 1 0 0 1 0 0 0 1 1 0 1 0 1 0 1 0 1 0 0 1 0 1 1 1 0 1 0 0 0 1 1 1 1 0 0 0\n",
            " 1 0 0 0 0 0 0 1 0 0 0 0 0 1 0 0 1 1 1 1 0 0 0 0 1 0 0 1 1 1 0 1 0 1 1 0 0\n",
            " 1 0 1 0 1 0 1 0 0 1 1 0 1 1 1 0 1 0 1 1 0 1 0 1 0 1 0 1 1 1 1 1 1 0 0 0 0\n",
            " 0 1 1 0 1 1 0 1 0 1 1 1 0 0 1 0 0 0 0 0 1 1 1 0 0 1 1 0 1 0 0 0 0 0 0 0 1\n",
            " 0 0 1 0 0 1 1 1 0 1 1 1 0 1 1 0 0 0 1 1 0 1 0 0 1 0 0 1 1 1 1 1 1 1 0 0 0\n",
            " 1 1 1 0 0 0 0 0 1 1 1 1 0 1 0 1 1 0 1 1 0 0 1 1 1 1 1 0 0 1 0 1 1 0 0 1 0\n",
            " 0 1 0 0 1 1 1 0 0 0 0 0 0 0 1 0 1 1 1 0 1 1 0 1 1 1 0 0 0 0 1 0 0 0 0 1 1\n",
            " 0 0 0 0 1 1 0 0 1 0 0 0 1 0 1 1 1 0 1 0 0 1 1 0 1 1 1 0 0 1 1 1 0 1 0 1 0\n",
            " 0 0 0 1 0 0 0 0 1 1 1 1 0 1 1 0 0 1 1 0 1 1 1 0 1 0 1 1 0 0 0 0 1 0 0 0 0\n",
            " 1 1 0 0 0 1 0 0 1 1 1 1 1 1 1 0 1 0 1 0 1 1 1 1 1 0 0 0 0 1 0 0 0 0 1 0 1\n",
            " 1 1 1 0 0 1 0 1 1 0 1 1 1 1 1 1 0 1 0 0 0 1 0 0 0 0 1 1 1 1 1 0 1 0 1 1 0\n",
            " 1 1 0 1 0 0 1 1 0 1 1 0 1 0 1 0 1 1 0 1 0 1 0 1 0 1 0 1 0 1 0 1 0 0 1 0 1\n",
            " 0 0 1 0 0 1 0 1 0 1 0 0 0 0 0 0 0 1 1 1 0 1 0 0 0 1 1 0 0 1 0 0 1 1 1 0 0\n",
            " 1 1 0 0 0 0 0 1 1 0 0 1 1 1 0 0 0 0 0 0 0 0 1 0 1 1 0 0 0 1 1 1 0 0 0 0 1\n",
            " 0 0 0 0 0 0 1 1 0 0 1 0 0 0 0 0 0 0 0 0 1 0 0 0 1 0 1 0 0 1 0 1 1 0 0 1 0\n",
            " 0]\n"
          ]
        }
      ],
      "source": [
        "testing = test_array\n",
        "\n",
        "final_imputer = KNNImputer(n_neighbors=17)\n",
        "\n",
        "t1_X = [column[0:-2:] for column in training1_array] # complete list of features\n",
        "final_imputer.fit(t1_X)\n",
        "\n",
        "testing_imputed = final_imputer.transform(testing)\n",
        "\n",
        "\n",
        "X_test = scale_data(testing_imputed)\n",
        "\n",
        "\n",
        "X_train, y_train, z_train = impute_data(17)\n",
        "X_train = scale_data(X_train)\n",
        "\n",
        "clf=SVC(C=1, gamma='scale', kernel='sigmoid')\n",
        "clf.fit(X_train, y_train, sample_weight=z_train)\n",
        "\n",
        "predictions = clf.predict(X_test)\n",
        "\n",
        "int_predictions = np.array([int(num) for num in predictions])\n",
        "print(int_predictions)\n",
        "assert len(int_predictions) == len(test_array), 'mismatched number of predictions and data samples.'\n",
        "assert int_predictions.shape ==(1000,), 'predictions are wrong shape'\n",
        "np.savetxt('/content/drive/MyDrive/Colab Notebooks/FML/new_predictions.csv', int_predictions, delimiter=',')"
      ]
    }
  ],
  "metadata": {
    "colab": {
      "provenance": []
    },
    "kernelspec": {
      "display_name": "Python 3",
      "name": "python3"
    },
    "language_info": {
      "name": "python"
    }
  },
  "nbformat": 4,
  "nbformat_minor": 0
}
